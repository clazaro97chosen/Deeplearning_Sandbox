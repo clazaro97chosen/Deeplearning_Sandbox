{
 "cells": [
  {
   "cell_type": "code",
   "execution_count": 18,
   "metadata": {},
   "outputs": [
    {
     "output_type": "stream",
     "name": "stdout",
     "text": "usage: prog.py [-h]\nprog.py: error: unrecognized arguments: foo\n"
    }
   ],
   "source": [
    "!python3 prog.py foo"
   ]
  },
  {
   "cell_type": "markdown",
   "metadata": {},
   "source": [
    "## Introducing Positional arguments<br>\n",
    "import argparse<br>\n",
    "parser = argparse.ArgumentParser()<br>\n",
    "parser.add_argument(\"square\", help=\"will square square provided lol\", \n",
    "                    type=int)<br>\n",
    "args = parser.parse_args()<br>\n",
    "print(args.square**2)<br>"
   ]
  },
  {
   "cell_type": "code",
   "execution_count": 33,
   "metadata": {},
   "outputs": [
    {
     "output_type": "stream",
     "name": "stdout",
     "text": "usage: prog.py [-h] [--verbosity] square\nprog.py: error: argument --verbosity/-v: ignored explicit argument '-v'\n"
    }
   ],
   "source": [
    "!python3 prog.py 4 -v -v"
   ]
  },
  {
   "cell_type": "code",
   "execution_count": null,
   "metadata": {},
   "outputs": [],
   "source": []
  }
 ],
 "metadata": {
  "language_info": {
   "codemirror_mode": {
    "name": "ipython",
    "version": 3
   },
   "file_extension": ".py",
   "mimetype": "text/x-python",
   "name": "python",
   "nbconvert_exporter": "python",
   "pygments_lexer": "ipython3",
   "version": "3.7.7-final"
  },
  "orig_nbformat": 2,
  "kernelspec": {
   "name": "python37764bitdeeplearningconda4784df4aecd74015b7cb859f264cd8e8",
   "display_name": "Python 3.7.7 64-bit ('deeplearning': conda)"
  }
 },
 "nbformat": 4,
 "nbformat_minor": 2
}